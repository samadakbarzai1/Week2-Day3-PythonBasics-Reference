{
 "cells": [
  {
   "cell_type": "code",
   "execution_count": 1,
   "id": "eba25e12",
   "metadata": {},
   "outputs": [],
   "source": [
    "\n",
    "def calc_area(area_len1, area_width2):\n",
    "    result = area_len1 * area_width2\n",
    "    print(result)\n"
   ]
  }
 ],
 "metadata": {
  "kernelspec": {
   "display_name": "Python 3 (ipykernel)",
   "language": "python",
   "name": "python3"
  },
  "language_info": {
   "codemirror_mode": {
    "name": "ipython",
    "version": 3
   },
   "file_extension": ".py",
   "mimetype": "text/x-python",
   "name": "python",
   "nbconvert_exporter": "python",
   "pygments_lexer": "ipython3",
   "version": "3.9.12"
  }
 },
 "nbformat": 4,
 "nbformat_minor": 5
}
